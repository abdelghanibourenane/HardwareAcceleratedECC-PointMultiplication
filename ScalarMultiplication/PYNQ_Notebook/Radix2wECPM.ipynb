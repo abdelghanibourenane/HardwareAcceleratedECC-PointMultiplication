{
 "cells": [
  {
   "cell_type": "markdown",
   "id": "fcabf42d-701b-474b-b951-27f018707015",
   "metadata": {},
   "source": [
    "# Radix2w Point Multiplication in Elliptic Curve Cryptography\n",
    "## Radix-2 Windowing-Based Scalar Multiplication in Curve K163\n",
    "\n",
    "\n",
    "One approach to performing point multiplication is the radix-2 windowing-based scalar multiplication algorithm. This algorithm involves breaking the scalar into several bit-windows and performing precomputations on the points corresponding to each bit-window. Then, during the actual multiplication, the algorithm uses these precomputed points and a sliding window to efficiently compute the final result.\n",
    "\n",
    "This implementation is demonstrated on curve K163, a popular elliptic curve used in various cryptographic protocols.\n",
    "\n",
    "The Point Multiplication module is created on the programmable logic of the PYNQ Z1 board and further imported to PYNQ framework running on the processing system of the same board for implemenation and control of the elliptic curve point muliplication hardware module(ECPM)\n"
   ]
  },
  {
   "cell_type": "code",
   "execution_count": 39,
   "id": "3d69bb92-ad10-4de1-b869-8d43a9108266",
   "metadata": {},
   "outputs": [],
   "source": [
    "from pynq import Overlay\n",
    "ol = Overlay('/home/xilinx/pynq/SM/design.bit')\n",
    "from pynq import allocate\n",
    "import numpy as np \n",
    "import time\n",
    "ECPM = ol.scalarMult_0"
   ]
  },
  {
   "cell_type": "markdown",
   "id": "fed7a035-46eb-425c-a16e-b3af2e21b408",
   "metadata": {},
   "source": [
    "## Registers of the Scalar Multiplicatoin IP\n",
    "\n",
    "The registers that we need to write values to:\n",
    "\n",
    "* CTRL - the control register\n",
    "* k_1 - the lower 32-bits of the start address for the memory range the IP will access to write get the value of the scalar\n",
    "* x_o_1 - the lower 32-bits of the start address for the memory range the IP will access to write the value of the x coordinate \n",
    "* y_o_1 - the lower 32-bits of the start address for the memory range the IP will access to write the value of the y coordinate"
   ]
  },
  {
   "cell_type": "code",
   "execution_count": 40,
   "id": "e6084fa0-b359-480d-94f1-535bafc7e973",
   "metadata": {},
   "outputs": [
    {
     "data": {
      "text/plain": [
       "RegisterMap {\n",
       "  CTRL = Register(AP_START=0, AP_DONE=0, AP_IDLE=1, AP_READY=0, RESERVED_1=0, AUTO_RESTART=0, RESERVED_2=0, INTERRUPT=0, RESERVED_3=0),\n",
       "  GIER = Register(Enable=0, RESERVED=0),\n",
       "  IP_IER = Register(CHAN0_INT_EN=0, CHAN1_INT_EN=0, RESERVED_0=0),\n",
       "  IP_ISR = Register(CHAN0_INT_ST=0, CHAN1_INT_ST=0, RESERVED_0=0),\n",
       "  k_1 = Register(k=write-only),\n",
       "  k_2 = Register(k=write-only),\n",
       "  x_o_1 = Register(x_o=write-only),\n",
       "  x_o_2 = Register(x_o=write-only),\n",
       "  y_o_1 = Register(y_o=write-only),\n",
       "  y_o_2 = Register(y_o=write-only),\n",
       "  SM = Register(SM=write-only)\n",
       "}"
      ]
     },
     "execution_count": 40,
     "metadata": {},
     "output_type": "execute_result"
    }
   ],
   "source": [
    "ECPM.register_map"
   ]
  },
  {
   "cell_type": "markdown",
   "id": "09abf6a4-9ce2-41e7-b440-eafb8e990143",
   "metadata": {},
   "source": [
    "## Allocating memory spcaes for scalar k, coordinate x, and coordinate y\n",
    "\n",
    "The start address for the memory in which these parameters are written will be passed to the ECPM IP, by starting the the computation on IP using the start bit of the control register, the IP will read data from this memory and write results back to the x and y coordinate memory locations. "
   ]
  },
  {
   "cell_type": "code",
   "execution_count": 41,
   "id": "c56d71bf-c4d2-4c37-b9bf-17d481c4d901",
   "metadata": {},
   "outputs": [],
   "source": [
    "k_buffer = allocate(shape=(6,), dtype=np.uint32)\n",
    "x_buffer = allocate(shape=(6,),dtype=np.uint32)\n",
    "y_buffer = allocate(shape=(6,),dtype=np.uint32)\n",
    "K_x = np.array([ 0x5c94eee8, 0xde4e6d5e, 0xaa07d793, 0x7bbc11ac, 0xfe13c053, 0x00000002], dtype=np.uint32)\n",
    "K_y = np.array([0xccdaa3d9, 0x0536d538, 0x321f2e80, 0x5d38ff58, 0x89070fb0, 0x00000002], dtype=np.uint32)\n",
    "B_x = np.array([0xE8343E36, 0xD4994637, 0xA0991168, 0x86A2D57E, 0xF0EBA162, 0x03],dtype = np.uint32)\n",
    "B_y = np.array([0x797324F1, 0xB11C5C0C, 0xA2CDD545, 0x71A0094F, 0xD51FBC6C, 0x0],dtype = np.uint32)\n",
    "\n",
    "k1 = np.array([0x00000008, 0x00000000, 0x00000000, 0x00000000, 0x00000000, 0x00000000],dtype=np.uint32)\n",
    "k2 = np.array([0xFFFFFFFF, 0x00000000, 0x00000000, 0x00000000, 0x00000000, 0x00000000],dtype=np.uint32)\n",
    "k3 = np.array([0xFFFFFFFF, 0xFFFFFFFF, 0xFFFFFFFF, 0x00000000, 0x00000000, 0x00000000],dtype=np.uint32)\n",
    "k4 = np.array([0x0FFF8000, 0xF0003E00, 0xE0001FFF, 0xFFF00FFF, 0x0FFE0FFF, 0x00000002], dtype=np.uint32)\n",
    "k5 = np.array([0xFF8007FF, 0xFFFF807F,0x000003FF, 0x0007C000, 0xFFF07FFE,0x3],dtype = np.uint32)\n",
    "k5 = np.array([0xFF8007FF, 0xFFFF807F,0x000003FF, 0x0007C000, 0xFFF07FFE,0x3],dtype = np.uint32)\n",
    "k6 = np.array([0xFFF80000, 0x010001FF,0xFFE08000, 0x07FFF1FF, 0xFFFFFE00,0x3],dtype = np.uint32)\n",
    "\n",
    "two_key = np.array([0x00000002, 0x00000000, 0x00000000, 0x00000000, 0x00000000, 0x00000000],dtype=np.uint32)\n",
    "four_key = np.array([0x00000004, 0x00000000, 0x00000000, 0x00000000, 0x00000000, 0x00000000],dtype=np.uint32)\n",
    "six_key = np.array([0x00000006, 0x00000000, 0x00000000, 0x00000000, 0x00000000, 0x00000000],dtype=np.uint32)\n",
    "eight_key = np.array([0x00000008, 0x00000000, 0x00000000, 0x00000000, 0x00000000, 0x00000000],dtype=np.uint32)\n",
    "nine_key = np.array([0x00000009, 0x00000000, 0x00000000, 0x00000000, 0x00000000, 0x00000000],dtype=np.uint32)\n",
    "B_key = np.array([0x99F8A5EE, 0xA2E0CC0D,0x00020108, 0x00000000, 0x00000000,0x4],dtype = np.uint32)\n",
    "A_key = np.array([0xFF8007FF, 0xFFFF807F,0x000003FF, 0x0007C000, 0xFFF07FFE,0x3],dtype = np.uint32)\n",
    "np.copyto(x_buffer, K_x)\n",
    "np.copyto(y_buffer, K_y)"
   ]
  },
  {
   "cell_type": "markdown",
   "id": "c071f8b6-54a5-4039-9cdc-4a21bff54230",
   "metadata": {},
   "source": [
    "## Passing the values k,x and y to ECPM IP"
   ]
  },
  {
   "cell_type": "markdown",
   "id": "2883bf75-69b0-41db-ae5d-008ab8708ae7",
   "metadata": {},
   "source": [
    "Writing the values of the memory address of scalar k, coordinate x, and coordinate y\n"
   ]
  },
  {
   "cell_type": "code",
   "execution_count": 42,
   "id": "475fd389-ae4f-4170-874a-764e17c48dbe",
   "metadata": {},
   "outputs": [],
   "source": [
    "ECPM.register_map.k_1 = k_buffer.physical_address\n",
    "ECPM.register_map.x_o_1 = x_buffer.physical_address\n",
    "ECPM.register_map.y_o_1 = y_buffer.physical_address"
   ]
  },
  {
   "cell_type": "markdown",
   "id": "c6d58560-d75d-4e85-ad38-5483ceff7574",
   "metadata": {},
   "source": [
    "## Performing Multiple Point Multiplication Operations"
   ]
  },
  {
   "cell_type": "code",
   "execution_count": 43,
   "id": "25276fa6-6156-4a4b-a8df-361476c39c29",
   "metadata": {},
   "outputs": [
    {
     "name": "stdout",
     "output_type": "stream",
     "text": [
      "k = 2\n",
      "x = 00000000CB5CA2738FE300AACFB00B42A77B828D8A5C41EB\n",
      "y = 0000000229C79E9AB85F90ACD3D5FA3A696664515EFEFA6B\n",
      "k = 4\n",
      "x = 00000000BA8C7E6E2523EF94CBC1E56FACFEDE24F3F91578\n",
      "y = 0000000510F96CBC41CF3BDFA0157E9E8FEE2C605791DB0D\n",
      "k = 6\n",
      "x = 0000000765470BC65E9AB8C40B297C983B1000BCF021426E\n",
      "y = 00000000A58BA7C589659F870A0CB121F76D61122D8741B6\n",
      "k = 8\n",
      "x = 00000003A11E19CC4C0B15CD4C7D5A5CF2D5A8C383287DA8\n",
      "y = 0000000204041306C461A237C8E5D1644D0ACA7D738A1257\n"
     ]
    }
   ],
   "source": [
    "def Radix2w_point_multiplication(key):\n",
    "    np.copyto(k_buffer, key)\n",
    "    np.copyto(x_buffer, K_x)\n",
    "    np.copyto(y_buffer, K_y)\n",
    "    ECPM.register_map.CTRL.AP_START = 1\n",
    "\n",
    "# Wait for IP to finish\n",
    "    while not ECPM.register_map.CTRL.AP_DONE:\n",
    "        pass\n",
    "    hex_string = \"k = \"\n",
    "    print(\"k =\",k_buffer[0])\n",
    "    hex_string = \"x = \"\n",
    "    for i in range(len(x_buffer)-1, -1, -1):\n",
    "        hex_string += \"{:08X}\".format(x_buffer[i])\n",
    "    print(hex_string)\n",
    "    hex_string = \"y = \"\n",
    "    for i in range(len(y_buffer)-1, -1, -1):\n",
    "        hex_string += \"{:08X}\".format(y_buffer[i])\n",
    "    print(hex_string)\n",
    "Radix2w_point_multiplication(two_key)\n",
    "Radix2w_point_multiplication(four_key)\n",
    "Radix2w_point_multiplication(six_key)\n",
    "Radix2w_point_multiplication(eight_key)"
   ]
  },
  {
   "cell_type": "markdown",
   "id": "c02ec231",
   "metadata": {},
   "source": [
    "For referencing Point Multiplication values, the following link can be visited: http://point-at-infinity.org/ecc/nisttv"
   ]
  },
  {
   "cell_type": "markdown",
   "id": "76a0698a-fad2-4b39-860b-8fe519aeef19",
   "metadata": {},
   "source": [
    "## Execution Time Analysis"
   ]
  },
  {
   "cell_type": "markdown",
   "id": "695fa080",
   "metadata": {},
   "source": [
    "The implemented ECPM hardware IP can work with two different algorithm for point muliplication, the first is the Radix2w method, and the second is the binary method, based on the value written the axi lite interface register SM, a certain algorithm is chosen, we perform PM operations for number of different scalars using both algorithms, comparision between the two proves the superiority of our developed Radix2w module in term of execution time with around 28% enhancement"
   ]
  },
  {
   "cell_type": "code",
   "execution_count": 44,
   "id": "69d900a6-4c80-40c2-88cf-64b933d575a8",
   "metadata": {},
   "outputs": [
    {
     "data": {
      "image/png": "[encoded data removed]",
      "text/plain": [
       "<Figure size 432x288 with 1 Axes>"
      ]
     },
     "metadata": {
      "needs_background": "light"
     },
     "output_type": "display_data"
    }
   ],
   "source": [
    "import matplotlib.pyplot as plt\n",
    "Radix2w_execution_time = np.zeros(6)\n",
    "Binary_execution_time = np.zeros(6)\n",
    "scalars=[k1,k2,k3,k4,k5,k6]\n",
    "scalars_def = ['k1', 'k2', 'k3', 'k4', 'k5', 'k6']\n",
    "def point_multiplication(SM,timing):\n",
    "    for i in range(6):\n",
    "        np.copyto(k_buffer,scalars[i])\n",
    "        np.copyto(x_buffer, K_x)\n",
    "        np.copyto(y_buffer, K_y)\n",
    "        ECPM.register_map.SM=SM\n",
    "        start = time.perf_counter()\n",
    "        ECPM.register_map.CTRL.AP_START = 1\n",
    "        # Wait for IP to finish\n",
    "        while not ECPM.register_map.CTRL.AP_DONE:\n",
    "            pass\n",
    "        stop = time.perf_counter()\n",
    "        extime = (stop - start) * 1e6\n",
    "        timing[i] = extime\n",
    "point_multiplication(0,Binary_execution_time)\n",
    "point_multiplication(1,Radix2w_execution_time)\n",
    "x = np.arange(len(scalars_def))\n",
    "\n",
    "# Plot the arrays\n",
    "plt.plot(x, Radix2w_execution_time, label='Radix2w Execution Time')\n",
    "plt.plot(x, Binary_execution_time, label='Binary Execution Time')\n",
    "\n",
    "# Set labels and title\n",
    "plt.xlabel('Scalars')\n",
    "plt.ylabel('Execution Time')\n",
    "plt.title('Comparison of Execution Times')\n",
    "\n",
    "# Set x-axis tick labels\n",
    "plt.xticks(x, scalars_def)\n",
    "\n",
    "# Add legend\n",
    "plt.legend()\n",
    "\n",
    "# Show the plot\n",
    "plt.show()"
   ]
  },
  {
   "cell_type": "markdown",
   "id": "8754fd38",
   "metadata": {},
   "source": [
    "# Point Multiplication in Elliptic Curve Diffie-Hellman Key Exchange\n",
    "## Radix-2 Windowing-Based Scalar Multiplication in Curve K163\n",
    "\n",
    "In elliptic curve cryptography, point multiplication is a fundamental operation used in various cryptographic protocols such as Elliptic Curve Diffie-Hellman (ECDH)."
   ]
  },
  {
   "cell_type": "code",
   "execution_count": 45,
   "id": "3f343384",
   "metadata": {},
   "outputs": [
    {
     "name": "stdout",
     "output_type": "stream",
     "text": [
      "Key exchange successful!\n"
     ]
    }
   ],
   "source": [
    "def ecdh(a_key,b_key):\n",
    "    # Alice's variables\n",
    "    alice_pb_x = np.empty(6, dtype=np.uint32)\n",
    "    alice_pb_y = np.empty(6, dtype=np.uint32)\n",
    "    shared_alice_x = np.empty(6, dtype=np.uint32)\n",
    "    shared_alice_y = np.empty(6, dtype=np.uint32)\n",
    "\n",
    "    # Bob's variables\n",
    "    bob_pb_x = np.empty(6, dtype=np.uint32)\n",
    "    bob_pb_y = np.empty(6, dtype=np.uint32)\n",
    "    shared_bob_x = np.empty(6, dtype=np.uint32)\n",
    "    shared_bob_y = np.empty(6, dtype=np.uint32)\n",
    "    #alice public key generation\n",
    "    k_buffer=a_key\n",
    "    x_buffer= K_x\n",
    "    y_buffer = K_y\n",
    "    ECPM.register_map.CTRL.AP_START =1\n",
    "    np.copyto(alice_pb_x, x_buffer)\n",
    "    np.copyto(alice_pb_y, y_buffer)\n",
    "    while not ECPM.register_map.CTRL.AP_DONE:\n",
    "        pass\n",
    "    #bob public key generation\n",
    "    k_buffer=b_key\n",
    "    x_buffer= K_x\n",
    "    y_buffer = K_y\n",
    "    ECPM.register_map.CTRL.AP_START =1\n",
    "    np.copyto(bob_pb_x, x_buffer)\n",
    "    np.copyto(bob_pb_y, y_buffer)\n",
    "    while not ECPM.register_map.CTRL.AP_DONE:\n",
    "        pass\n",
    "    # exchange alice\n",
    "    k_buffer=a_key\n",
    "    x_buffer= bob_pb_x\n",
    "    y_buffer = bob_pb_y\n",
    "    ECPM.register_map.CTRL.AP_START =1\n",
    "    np.copyto(shared_alice_x, x_buffer)\n",
    "    np.copyto(shared_alice_y, y_buffer)\n",
    "    while not ECPM.register_map.CTRL.AP_DONE:\n",
    "        pass\n",
    "    # exchange bob\n",
    "    k_buffer=b_key\n",
    "    x_buffer= alice_pb_x\n",
    "    y_buffer = alice_pb_y\n",
    "    ECPM.register_map.CTRL.AP_START =1\n",
    "    np.copyto(shared_bob_x, x_buffer)\n",
    "    np.copyto(shared_bob_y, y_buffer)\n",
    "    while not ECPM.register_map.CTRL.AP_DONE:\n",
    "        pass\n",
    "    if(np.all(shared_bob_x==shared_alice_x) and np.all(shared_bob_y==shared_alice_y)):\n",
    "        print(\"Key exchange successful!\")\n",
    "    else:\n",
    "        print(\"Key exchange failed\")\n",
    "ecdh(A_key, B_key)"
   ]
  }
 ],
 "metadata": {
  "kernelspec": {
   "display_name": "Python 3",
   "language": "python",
   "name": "python3"
  },
  "language_info": {
   "codemirror_mode": {
    "name": "ipython",
    "version": 3
   },
   "file_extension": ".py",
   "mimetype": "text/x-python",
   "name": "python",
   "nbconvert_exporter": "python",
   "pygments_lexer": "ipython3",
   "version": "3.8.2"
  }
 },
 "nbformat": 4,
 "nbformat_minor": 5
}
