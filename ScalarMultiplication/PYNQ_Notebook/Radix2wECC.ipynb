{
 "cells": [
  {
   "cell_type": "code",
   "execution_count": 2,
   "id": "8cbf22d1",
   "metadata": {},
   "outputs": [
    {
     "data": {
      "application/javascript": [
       "\n",
       "try {\n",
       "require(['notebook/js/codecell'], function(codecell) {\n",
       "  codecell.CodeCell.options_default.highlight_modes[\n",
       "      'magic_text/x-csrc'] = {'reg':[/^%%microblaze/]};\n",
       "  Jupyter.notebook.events.one('kernel_ready.Kernel', function(){\n",
       "      Jupyter.notebook.get_cells().map(function(cell){\n",
       "          if (cell.cell_type == 'code'){ cell.auto_highlight(); } }) ;\n",
       "  });\n",
       "});\n",
       "} catch (e) {};\n"
      ]
     },
     "metadata": {},
     "output_type": "display_data"
    },
    {
     "data": {
      "application/javascript": [
       "\n",
       "try {\n",
       "require(['notebook/js/codecell'], function(codecell) {\n",
       "  codecell.CodeCell.options_default.highlight_modes[\n",
       "      'magic_text/x-csrc'] = {'reg':[/^%%pybind11/]};\n",
       "  Jupyter.notebook.events.one('kernel_ready.Kernel', function(){\n",
       "      Jupyter.notebook.get_cells().map(function(cell){\n",
       "          if (cell.cell_type == 'code'){ cell.auto_highlight(); } }) ;\n",
       "  });\n",
       "});\n",
       "} catch (e) {};\n"
      ]
     },
     "metadata": {},
     "output_type": "display_data"
    }
   ],
   "source": [
    "from pynq import Overlay\n",
    "from pynq import allocate\n",
    "import numpy as np"
   ]
  },
  {
   "cell_type": "code",
   "execution_count": 3,
   "id": "434d3f05",
   "metadata": {},
   "outputs": [],
   "source": [
    "ol =Overlay('/home/xilinx/pynq/overlays/Radix2wECC/design_1.bit')"
   ]
  },
  {
   "cell_type": "code",
   "execution_count": 4,
   "id": "02997fcc",
   "metadata": {},
   "outputs": [
    {
     "data": {
      "text/plain": [
       "0"
      ]
     },
     "execution_count": 4,
     "metadata": {},
     "output_type": "execute_result"
    }
   ],
   "source": [
    "my_ip = ol.Radix2wECC_0\n",
    "#my_ip.register_map\n",
    "#ol.ip_dict\n",
    "my_ip.register_map.CTRL.AP_DONE"
   ]
  },
  {
   "cell_type": "code",
   "execution_count": 5,
   "id": "86d478ea",
   "metadata": {},
   "outputs": [
    {
     "name": "stdout",
     "output_type": "stream",
     "text": [
      "1\n",
      "1\n"
     ]
    }
   ],
   "source": [
    "k = np.array([0x00000005, 0x00000000, 0x00000000, 0x00000000, 0x00000000, 0x00000000], dtype=np.int32)\n",
    "k_buffer = allocate(shape=(6,), dtype=np.int32)\n",
    "#_buffer = allocate(shape=(6,), dtype=np.int32)\n",
    "#y_buffer = allocate(shape=(6,), dtype=np.int32)\n",
    "np.copyto(k_buffer,k)\n",
    "my_ip.register_map.k_1 = k_buffer.physical_address\n",
    "#my_ip.register_map.x_1 = x_buffer.physical_address\n",
    "#my_ip.register_map.y_1 = y_buffer.physical_address\n",
    "#print(hex(k_buffer.physical_address))\n",
    "#print(hex(my_ip.register_map.k_1.address))\n",
    "#print(hex(my_ip.register_map.k_2.address))\n",
    "print(my_ip.register_map.CTRL.AP_IDLE)\n",
    "my_ip.register_map.CTRL.START=1\n",
    "print(my_ip.register_map.CTRL.AP_IDLE)\n"
   ]
  },
  {
   "cell_type": "code",
   "execution_count": 6,
   "id": "a8984dfd",
   "metadata": {},
   "outputs": [
    {
     "data": {
      "text/plain": [
       "0"
      ]
     },
     "execution_count": 6,
     "metadata": {},
     "output_type": "execute_result"
    }
   ],
   "source": [
    "my_ip.register_map.CTRL.AP_DONE"
   ]
  },
  {
   "cell_type": "code",
   "execution_count": 7,
   "id": "1d42d24d",
   "metadata": {},
   "outputs": [
    {
     "name": "stdout",
     "output_type": "stream",
     "text": [
      "[5 0 0 0 0 0]\n"
     ]
    }
   ],
   "source": [
    "k_np = np.frombuffer(k_buffer.data, dtype=np.int32)\n",
    "print(k_np)\n"
   ]
  },
  {
   "cell_type": "code",
   "execution_count": 8,
   "id": "90922a91",
   "metadata": {},
   "outputs": [
    {
     "ename": "NameError",
     "evalue": "name 'x_buffer' is not defined",
     "output_type": "error",
     "traceback": [
      "\u001b[0;31m---------------------------------------------------------------------------\u001b[0m",
      "\u001b[0;31mNameError\u001b[0m                                 Traceback (most recent call last)",
      "\u001b[0;32m<ipython-input-8-8ea4574abd83>\u001b[0m in \u001b[0;36m<module>\u001b[0;34m\u001b[0m\n\u001b[0;32m----> 1\u001b[0;31m \u001b[0mx_np\u001b[0m \u001b[0;34m=\u001b[0m \u001b[0mnp\u001b[0m\u001b[0;34m.\u001b[0m\u001b[0mfrombuffer\u001b[0m\u001b[0;34m(\u001b[0m\u001b[0mx_buffer\u001b[0m\u001b[0;34m.\u001b[0m\u001b[0mdata\u001b[0m\u001b[0;34m,\u001b[0m \u001b[0mdtype\u001b[0m\u001b[0;34m=\u001b[0m\u001b[0mnp\u001b[0m\u001b[0;34m.\u001b[0m\u001b[0mint32\u001b[0m\u001b[0;34m)\u001b[0m\u001b[0;34m\u001b[0m\u001b[0;34m\u001b[0m\u001b[0m\n\u001b[0m\u001b[1;32m      2\u001b[0m \u001b[0mprint\u001b[0m\u001b[0;34m(\u001b[0m\u001b[0mx_np\u001b[0m\u001b[0;34m)\u001b[0m\u001b[0;34m\u001b[0m\u001b[0;34m\u001b[0m\u001b[0m\n",
      "\u001b[0;31mNameError\u001b[0m: name 'x_buffer' is not defined"
     ]
    }
   ],
   "source": [
    "x_np = np.frombuffer(x_buffer.data, dtype=np.int32)\n",
    "print(x_np)\n"
   ]
  },
  {
   "cell_type": "code",
   "execution_count": null,
   "id": "f1644a9e",
   "metadata": {},
   "outputs": [],
   "source": [
    "y_np = np.frombuffer(y_buffer.data, dtype=np.int32)\n",
    "print(y_np)\n"
   ]
  }
 ],
 "metadata": {
  "kernelspec": {
   "display_name": "Python 3",
   "language": "python",
   "name": "python3"
  },
  "language_info": {
   "codemirror_mode": {
    "name": "ipython",
    "version": 3
   },
   "file_extension": ".py",
   "mimetype": "text/x-python",
   "name": "python",
   "nbconvert_exporter": "python",
   "pygments_lexer": "ipython3",
   "version": "3.8.2"
  }
 },
 "nbformat": 4,
 "nbformat_minor": 5
}
